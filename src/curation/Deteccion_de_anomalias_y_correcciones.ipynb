{
 "cells": [
  {
   "cell_type": "code",
   "execution_count": 1,
   "metadata": {},
   "outputs": [],
   "source": [
    "import pandas as pd\n",
    "import numpy as np\n",
    "import matplotlib.pyplot as plt\n",
    "import descartes\n",
    "import geopandas as gpd\n",
    "from shapely.geometry import Point, Polygon\n",
    "import math\n",
    "# from mpl_toolkits.mplot3d import axes3d\n",
    "import datetime as dt\n",
    "from IPython.core.interactiveshell import InteractiveShell\n",
    "InteractiveShell.ast_node_interactivity = \"all\"\n",
    "\n",
    "%matplotlib inline"
   ]
  },
  {
   "cell_type": "markdown",
   "metadata": {},
   "source": [
    "Primero voy a ver que datos me da el dataset."
   ]
  },
  {
   "cell_type": "code",
   "execution_count": 9,
   "metadata": {},
   "outputs": [],
   "source": [
    "#Leo el csv de registros\n",
    "data = pd.read_csv(\"./Marat_n_BCN_sobran_kilometros_.csv\")\n",
    "crs = {'init': 'epsg:4326'}\n",
    "\n",
    "# #Añado punto geometrico\n",
    "geometry = [Point(xy) for xy in zip( data[\"longitud\"], data[\"latitud\"])]"
   ]
  },
  {
   "cell_type": "code",
   "execution_count": 8,
   "metadata": {
    "scrolled": true
   },
   "outputs": [],
   "source": [
    "geo_data = gpd.GeoDataFrame(data, crs=crs, geometry=geometry)"
   ]
  },
  {
   "cell_type": "code",
   "execution_count": 7,
   "metadata": {},
   "outputs": [
    {
     "data": {
      "text/plain": [
       "<matplotlib.axes._subplots.AxesSubplot at 0x1a562b5a4a8>"
      ]
     },
     "execution_count": 7,
     "metadata": {},
     "output_type": "execute_result"
    },
    {
     "data": {
      "text/plain": [
       "<matplotlib.axes._subplots.AxesSubplot at 0x1a562b5a4a8>"
      ]
     },
     "execution_count": 7,
     "metadata": {},
     "output_type": "execute_result"
    },
    {
     "data": {
      "image/png": "[encoded data removed]",
      "text/plain": [
       "<matplotlib.figure.Figure at 0x1a562b44dd8>"
      ]
     },
     "metadata": {
      "needs_background": "light"
     },
     "output_type": "display_data"
    }
   ],
   "source": [
    "fig,ax=plt.subplots(figsize= (15,15))\n",
    "geo_data.plot(ax=ax)\n",
    "\n",
    "geo_data[geo_data['time']== min(geo_data.time)].plot(ax=ax, color = 'red')#start point\n",
    "\n"
   ]
  },
  {
   "cell_type": "code",
   "execution_count": null,
   "metadata": {},
   "outputs": [],
   "source": [
    "# #Pinto elevación y diferencia de elevación\n",
    "\n",
    "# grafica= plt.figure(figsize= (20,10))\n",
    "\n",
    "# grafica=plt.plot(data.elevacion)\n",
    "\n",
    "# elevacion= data[['elevacion']]\n",
    "# ant = 0\n",
    "# s=[]\n",
    "# for idx, ele in elevacion.iterrows():\n",
    "#     if (idx == 0 ): ant=ele[\"elevacion\"]\n",
    "#     s.append(ele[\"elevacion\"]-ant)\n",
    "#     ant = ele[\"elevacion\"]    \n",
    "# s= pd.Series(s)\n",
    "\n",
    "# grafica=plt.plot(s)\n",
    "\n",
    "\n",
    "# grafica = plt.ylabel(\"Elevación (m)\")\n",
    "# grafica = plt.title(\"Cambio de la elevación durante el transcurso del recorrido\")"
   ]
  },
  {
   "cell_type": "markdown",
   "metadata": {},
   "source": [
    "Función para calcular la distancia entre dos puntos geográficos:\n",
    "\n",
    "$ 2\\cdot r \\cdot \\arcsin(\\sqrt{ \\sin^{2}(\\frac{lat2-lat1}{2})+ \\cos(lat1)\\cdot \\cos(lat2) \\cdot  \\sin^{2}(\\frac{lon2-lon1}{2} })) $"
   ]
  },
  {
   "cell_type": "code",
   "execution_count": 51,
   "metadata": {},
   "outputs": [],
   "source": [
    "def formulaHaversine(lat1, lon1, lat2, lon2):\n",
    "    \n",
    "    r = 6371000#m\n",
    "    k = math.pi/180 #transformar de grados a radianes\n",
    "    \n",
    "    diff_lat = lat2-lat1\n",
    "    diff_lon = lon2-lon1\n",
    "    \n",
    "    a = math.sin((k*diff_lat)/2)**2 + math.cos(k*lat1) * math.cos(k*lat2) * math.sin((k*diff_lon)/2)**2\n",
    "    c = 2*math.asin(math.sqrt(a))\n",
    "    return( r * c)"
   ]
  },
  {
   "cell_type": "markdown",
   "metadata": {},
   "source": [
    "Función para calcular diversas métricas necesarias para el posterior análisis y detectar registros anómalos."
   ]
  },
  {
   "cell_type": "code",
   "execution_count": 52,
   "metadata": {},
   "outputs": [],
   "source": [
    "def distancia3D(distancia2D,ele1,ele2):\n",
    "    diff_ele = ele2-ele1\n",
    "    d_h = math.sqrt(distancia2D**2 + diff_ele**2)\n",
    "    return(d_h)"
   ]
  },
  {
   "cell_type": "code",
   "execution_count": 53,
   "metadata": {},
   "outputs": [],
   "source": [
    "def formateaFecha(stringFecha, stringFormato):\n",
    "    time = dt.datetime.strptime(stringFecha, stringFormato)\n",
    "    return(time)"
   ]
  },
  {
   "cell_type": "code",
   "execution_count": 54,
   "metadata": {},
   "outputs": [],
   "source": [
    "def calculaVelocidadKM(time1, time2, distancia_2_1):\n",
    "    diff_time = time2 - time1\n",
    "    v = (distancia_2_1/diff_time.seconds) * 3.6 #k/h\n",
    "    return(v)"
   ]
  },
  {
   "cell_type": "code",
   "execution_count": 55,
   "metadata": {},
   "outputs": [],
   "source": [
    "def calculaPendiente(elevacion, distancia):\n",
    "    p=0\n",
    "    \n",
    "    if(distancia!=0):\n",
    "        p=elevacion/distancia\n",
    "        \n",
    "    return(p)"
   ]
  },
  {
   "cell_type": "code",
   "execution_count": 56,
   "metadata": {},
   "outputs": [],
   "source": [
    "def calculaVelocidadVertKM(time1,time2,incrementoEle):\n",
    "    diff_time = time2 - time1\n",
    "    v = (incrementoEle/diff_time.seconds) * 3.6 #k/h\n",
    "    return(abs(v))\n"
   ]
  },
  {
   "cell_type": "code",
   "execution_count": 57,
   "metadata": {},
   "outputs": [],
   "source": [
    "def calculaDireccionVector(lat1,lon1,lat2,lon2):\n",
    "    direccion=0\n",
    "    diff_lat=lat2-lat1\n",
    "    diff_lon=lon2-lon1\n",
    "    if(diff_lon != 0):\n",
    "        div_lat_lon =  diff_lat/diff_lon\n",
    "        direccion= (math.atan(div_lat_lon)*180)/math.pi\n",
    "    return(direccion)\n",
    "    "
   ]
  },
  {
   "cell_type": "markdown",
   "metadata": {},
   "source": [
    "$\\tan ^{-1}\\left( \\frac{lat2-lat1}{lon2-lon1} \\right)\\cdot \\frac{180}{\\pi}$"
   ]
  },
  {
   "cell_type": "code",
   "execution_count": 58,
   "metadata": {},
   "outputs": [],
   "source": [
    "def calculosDetectarAnomalias(data, nombreNuevo):\n",
    "    distance = list()\n",
    "    velocidad = list()\n",
    "    incr_ele = list()\n",
    "    pendiente = list()\n",
    "    velocidad_v = list()\n",
    "    direccion =list()\n",
    "    cambio_dir=list()\n",
    "    \n",
    "    \n",
    "    lista_time=data['time']\n",
    "\n",
    "    ele = 0\n",
    "    lon = 0\n",
    "    lat = 0\n",
    "    dirr= 0\n",
    "    time = lista_time[0]\n",
    "\n",
    "    for i, fila in data.iterrows():\n",
    "        if( i == 0):\n",
    "            distance.append(0)\n",
    "            velocidad.append(0)\n",
    "            incr_ele.append(0)\n",
    "            pendiente.append(0)\n",
    "            velocidad_v.append(0)\n",
    "            direccion.append(0)\n",
    "            cambio_dir.append(0)\n",
    "        else:\n",
    "            \n",
    "            #distancia\n",
    "            d_2d = formulaHaversine(lat, lon, fila['latitud'], fila['longitud'])\n",
    "            d_h= distancia3D(d_2d,ele,fila['elevacion'])\n",
    "            distance.append(d_h)\n",
    "            \n",
    "            #velocidad\n",
    "            t1=time.replace('.000', '')\n",
    "            t2=fila['time'].replace( '.000', '')\n",
    "            time_dt1= formateaFecha(t1,'%Y-%m-%dT%H:%M:%SZ')\n",
    "            time_dt2= formateaFecha(t2,'%Y-%m-%dT%H:%M:%SZ')\n",
    "            \n",
    "            v= calculaVelocidadKM(time_dt1, time_dt2, d_h)\n",
    "            velocidad.append(v)\n",
    "            \n",
    "            #Incremento elevación\n",
    "            diff_ele = fila['elevacion']-ele\n",
    "            incr_ele.append(diff_ele)\n",
    "            \n",
    "            #pendiente\n",
    "            pendiente.append(calculaPendiente(diff_ele, d_2d))\n",
    "            \n",
    "            #Velocidad vertical\n",
    "            velocidad_v.append(calculaVelocidadVertKM(time_dt1,time_dt2, diff_ele))\n",
    "               \n",
    "            #Dirección vector\n",
    "            new_dirr=calculaDireccionVector(lat,lon,fila['latitud'],fila['longitud'])\n",
    "            direccion.append(new_dirr)\n",
    "                \n",
    "            #Cambio de direccion vector\n",
    "            cambio_dir.append(abs(new_dirr)-abs(dirr))\n",
    "            dirr = new_dirr\n",
    "        \n",
    "        ele = fila['elevacion']\n",
    "        lon = fila['longitud']\n",
    "        lat = fila['latitud']\n",
    "        time = fila['time']\n",
    "\n",
    "    data[\"distancia\"]=distance\n",
    "    data[\"velocidad\"]=velocidad\n",
    "    data[\"inc_ele\"]=incr_ele\n",
    "    data[\"pendiente\"]=pendiente\n",
    "    data[\"velocidad_v\"]=velocidad_v\n",
    "    data[\"direccion\"]=direccion\n",
    "    data[\"cambio_dirr\"]=cambio_dir\n",
    "    \n",
    "    data.to_csv(nombreNuevo+\".csv\",index=False)"
   ]
  },
  {
   "cell_type": "code",
   "execution_count": 59,
   "metadata": {
    "scrolled": true
   },
   "outputs": [],
   "source": [
    "#calculosDetectarAnomalias(datamedia, \"datamediamar\")\n",
    "calculosDetectarAnomalias(data, \"datamar\")"
   ]
  },
  {
   "cell_type": "code",
   "execution_count": 10,
   "metadata": {},
   "outputs": [],
   "source": [
    "datamar= pd.read_csv(\"datamar.csv\")\n",
    "#datamediamar= pd.read_csv(\"datamediamar.csv\")"
   ]
  },
  {
   "cell_type": "code",
   "execution_count": 61,
   "metadata": {},
   "outputs": [
    {
     "data": {
      "text/plain": [
       "45279.502055317964"
      ]
     },
     "execution_count": 61,
     "metadata": {},
     "output_type": "execute_result"
    }
   ],
   "source": [
    "sum(datamar.distancia)"
   ]
  },
  {
   "cell_type": "markdown",
   "metadata": {},
   "source": [
    "## Eliminación de datos anómalos\n"
   ]
  },
  {
   "cell_type": "code",
   "execution_count": 69,
   "metadata": {},
   "outputs": [
    {
     "data": {
      "image/png": "[encoded data removed]",
      "text/plain": [
       "<matplotlib.figure.Figure at 0x20e0053ba90>"
      ]
     },
     "metadata": {
      "needs_background": "light"
     },
     "output_type": "display_data"
    }
   ],
   "source": [
    "aux=plt.subplots(figsize= (7,7))\n",
    "hist_vel=plt.hist(datamar.velocidad, bins=40)\n",
    "aux=plt.xlim(0,80)"
   ]
  },
  {
   "cell_type": "code",
   "execution_count": 75,
   "metadata": {},
   "outputs": [
    {
     "data": {
      "image/png": "[encoded data removed]",
      "text/plain": [
       "<matplotlib.figure.Figure at 0x20e018d97b8>"
      ]
     },
     "metadata": {
      "needs_background": "light"
     },
     "output_type": "display_data"
    }
   ],
   "source": [
    "aux=plt.subplots(figsize= (7,7))\n",
    "hist_vel=plt.hist(datamar.inc_ele, bins=50)\n",
    "aux=plt.xlim(-1.5,1)"
   ]
  },
  {
   "cell_type": "code",
   "execution_count": 77,
   "metadata": {},
   "outputs": [
    {
     "data": {
      "image/png": "[encoded data removed]",
      "text/plain": [
       "<matplotlib.figure.Figure at 0x20e01a84198>"
      ]
     },
     "metadata": {
      "needs_background": "light"
     },
     "output_type": "display_data"
    }
   ],
   "source": [
    "aux=plt.subplots(figsize= (7,7))\n",
    "hist_vel=plt.hist(datamar.pendiente, bins=50)\n",
    "aux=plt.xlim(-0.5,0.5)"
   ]
  },
  {
   "cell_type": "code",
   "execution_count": 83,
   "metadata": {},
   "outputs": [
    {
     "data": {
      "image/png": "[encoded data removed]",
      "text/plain": [
       "<matplotlib.figure.Figure at 0x20e00504eb8>"
      ]
     },
     "metadata": {
      "needs_background": "light"
     },
     "output_type": "display_data"
    }
   ],
   "source": [
    "aux=plt.subplots(figsize= (7,7))\n",
    "hist_vel=plt.hist(datamar.velocidad_v, bins=50)\n",
    "aux=plt.xlim(0,5)"
   ]
  },
  {
   "cell_type": "code",
   "execution_count": 89,
   "metadata": {},
   "outputs": [
    {
     "data": {
      "image/png": "[encoded data removed]",
      "text/plain": [
       "<matplotlib.figure.Figure at 0x20e0171e048>"
      ]
     },
     "metadata": {
      "needs_background": "light"
     },
     "output_type": "display_data"
    }
   ],
   "source": [
    "aux=plt.subplots(figsize= (7,7))\n",
    "hist_vel=plt.hist(datamar.cambio_dirr, bins=20)\n",
    "#aux=plt.xlim(0,5)"
   ]
  },
  {
   "cell_type": "code",
   "execution_count": 101,
   "metadata": {},
   "outputs": [],
   "source": [
    "def find_nearest(array, value):\n",
    "    array = np.asarray(array)\n",
    "    idx = (np.abs(array - value)).argmin()\n",
    "    return array[idx]"
   ]
  },
  {
   "cell_type": "code",
   "execution_count": 13,
   "metadata": {},
   "outputs": [],
   "source": [
    "def eliminaRegistrosPorVelocidad(dataset):\n",
    "    \n",
    "    vel = dataset.velocidad\n",
    "    \n",
    "    #Calculo el filtro de datos anómalos\n",
    "    sigma_velocidad= np.std(vel)\n",
    "    \n",
    "    hist=plt.hist(vel, bins=60)\n",
    "\n",
    "    binmax=np.where(hist[0]==hist[0].max())[0][0]\n",
    "    val_binmax=hist[1][binmax]\n",
    "    filtro=find_nearest(hist[1],math.ceil(val_binmax+sigma_velocidad*1.5))\n",
    "    \n",
    "    #Recorro lo valores de la velocidad\n",
    "    lista= list()\n",
    "\n",
    "    for i in np.arange(0,len(vel)):\n",
    "    \n",
    "        #n es el valor i de la lista de velocidad\n",
    "       \n",
    "        n=vel[i]\n",
    "\n",
    "        #Si no es el primer valor de la lista\n",
    "        #Y tampo es el último\n",
    "        if(i>=1 and i != len(vel)-1):\n",
    "        \n",
    "            media=list()\n",
    "            num=0\n",
    "        \n",
    "            #Si i es el segundo elemento de la lista\n",
    "            #o el anteúltimo, solo cogeré el valor \n",
    "            #inmediatemente anterior y siguiente a i\n",
    "            if(i==1 or i== len(vel)-2):\n",
    "                num=1\n",
    "            elif(i==2 or i == len(vel)-3):  #Si es el tercero o el antepenultimo, \n",
    "                                            #cojo dos valores inmediatamente anteriores\n",
    "                                            #y siguientes para la media\n",
    "                num=2\n",
    "            else:                           #Para el resto cojo los tres anteriores\n",
    "                                            #y los tres siguientes\n",
    "                num=3\n",
    "\n",
    "            if(num !=0):\n",
    "                for j in np.arange(-num, num):\n",
    "                    value=0\n",
    "                \n",
    "                    if(j<0):\n",
    "                        value = lista[i+j]\n",
    "                    else:\n",
    "                        value = dataset.velocidad[i+j]\n",
    "                \n",
    "                    if(value<45):\n",
    "                        media.append(value)#Solamente se utilizarán los valores de ese\n",
    "                                           #rango que no superen los 45 km/h ya que\n",
    "                                           #es la máxima velocidad registrada por el ser humano.\n",
    "           \n",
    "            n= sum(media)/len(media)\n",
    "            \n",
    "        if(vel[i] > n*1.5 or vel[i] >filtro):\n",
    "            n=-99\n",
    "        else:\n",
    "            n=vel[i]\n",
    "            \n",
    "        lista.append(n)\n",
    "    \n",
    "    dataset['velocidad']=lista\n",
    "    \n",
    "    dataset = dataset.drop(dataset[dataset.velocidad==-99].index)\n",
    "    dataset = dataset.reset_index(drop=True)\n",
    "    return(dataset)"
   ]
  },
  {
   "cell_type": "code",
   "execution_count": 103,
   "metadata": {},
   "outputs": [],
   "source": [
    "def eliminaAnomaliasPorVelocidad(dataset,nombreNuevo):\n",
    "    n=dataset[dataset.velocidad>=45].empty\n",
    "    while(n is False):\n",
    "        dataset=eliminaRegistrosPorVelocidad(dataset)\n",
    "        calculosDetectarAnomalias(dataset, nombreNuevo)\n",
    "        dataset= pd.read_csv(nombreNuevo+\".csv\")\n",
    "        n=dataset[dataset.velocidad>=45].empty\n",
    "    return(dataset)"
   ]
  },
  {
   "cell_type": "code",
   "execution_count": 99,
   "metadata": {},
   "outputs": [
    {
     "data": {
      "text/plain": [
       "45279.502055317964"
      ]
     },
     "execution_count": 99,
     "metadata": {},
     "output_type": "execute_result"
    },
    {
     "data": {
      "text/plain": [
       "45032.80459508296"
      ]
     },
     "execution_count": 99,
     "metadata": {},
     "output_type": "execute_result"
    }
   ],
   "source": [
    "sum(datamar.distancia)\n",
    "sum(new_data.distancia)"
   ]
  },
  {
   "cell_type": "code",
   "execution_count": 95,
   "metadata": {},
   "outputs": [
    {
     "data": {
      "image/png": "[encoded data removed]",
      "text/plain": [
       "<matplotlib.figure.Figure at 0x20e01b97470>"
      ]
     },
     "metadata": {
      "needs_background": "light"
     },
     "output_type": "display_data"
    }
   ],
   "source": [
    "new_data=eliminaAnomaliasPorVelocidad(datamar, \"datamarCorrV\")"
   ]
  },
  {
   "cell_type": "code",
   "execution_count": 104,
   "metadata": {},
   "outputs": [],
   "source": [
    "def eliminaRegistrosPorVelocidadVertical(dataset):\n",
    "    \n",
    "    vel = dataset.velocidad_v\n",
    "    \n",
    "    #Calculo el filtro de datos anómalos\n",
    "    sigma_velocidad_v= np.std(vel)\n",
    "    \n",
    "    hist=plt.hist(vel, bins=60)\n",
    "\n",
    "    binmax=np.where(hist[0]==hist[0].max())[0][0]\n",
    "    val_binmax=hist[1][binmax]\n",
    "    filtro=find_nearest(hist[1],math.ceil(val_binmax+sigma_velocidad_v*2))\n",
    "    \n",
    "    #Recorro lo valores de la velocidad\n",
    "    lista= list()\n",
    "\n",
    "    for i in np.arange(0,len(vel)):\n",
    "    \n",
    "        #n es el valor i de la lista de velocidad\n",
    "       \n",
    "        n=vel[i]\n",
    "\n",
    "        #Si no es el primer valor de la lista\n",
    "        #Y tampo es el último\n",
    "        if(i>=1 and i != len(vel)-1):\n",
    "        \n",
    "            media=list()\n",
    "            num=0\n",
    "        \n",
    "            #Si i es el segundo elemento de la lista\n",
    "            #o el anteúltimo, solo cogeré el valor \n",
    "            #inmediatemente anterior y siguiente a i\n",
    "            if(i==1 or i== len(vel)-2):\n",
    "                num=1\n",
    "            elif(i==2 or i == len(vel)-3):  #Si es el tercero o el antepenultimo, \n",
    "                                            #cojo dos valores inmediatamente anteriores\n",
    "                                            #y siguientes para la media\n",
    "                num=2\n",
    "            else:                           #Para el resto cojo los tres anteriores\n",
    "                                            #y los tres siguientes\n",
    "                num=3\n",
    "\n",
    "            if(num !=0):\n",
    "                for j in np.arange(-num, num):\n",
    "                    value=0\n",
    "                \n",
    "                    if(j<0):\n",
    "                        value = lista[i+j]\n",
    "                    else:\n",
    "                        value = dataset.velocidad[i+j]\n",
    "                \n",
    "                    media.append(value)\n",
    "           \n",
    "            n= sum(media)/len(media)\n",
    "            \n",
    "            \n",
    "        if(vel[i] > n*1.5 or vel[i] >filtro):\n",
    "            n=-99\n",
    "        else:\n",
    "            n=vel[i]\n",
    "        \n",
    "        lista.append(n)\n",
    "    \n",
    "    dataset['velocidad_v']=lista\n",
    "    \n",
    "    dataset = dataset.drop(dataset[dataset.velocidad_v==-99].index)\n",
    "    dataset = dataset.reset_index(drop=True)\n",
    "    return(dataset)"
   ]
  },
  {
   "cell_type": "code",
   "execution_count": 105,
   "metadata": {},
   "outputs": [],
   "source": [
    "def eliminaAnomaliasPorVelocidadVertical(dataset,nombreNuevo):\n",
    "    i=3\n",
    "    while(i!=0):\n",
    "        dataset=eliminaRegistrosPorVelocidadVertical(dataset)\n",
    "        calculosDetectarAnomalias(dataset, nombreNuevo)\n",
    "        dataset= pd.read_csv(nombreNuevo+\".csv\")\n",
    "        i-=1\n",
    "    return(dataset)"
   ]
  },
  {
   "cell_type": "code",
   "execution_count": 106,
   "metadata": {},
   "outputs": [
    {
     "data": {
      "image/png": "[encoded data removed]",
      "text/plain": [
       "<matplotlib.figure.Figure at 0x20e020b3dd8>"
      ]
     },
     "metadata": {
      "needs_background": "light"
     },
     "output_type": "display_data"
    }
   ],
   "source": [
    "new_data_2=eliminaAnomaliasPorVelocidadVertical(new_data, \"datamarCorr1\")"
   ]
  },
  {
   "cell_type": "code",
   "execution_count": 108,
   "metadata": {},
   "outputs": [
    {
     "data": {
      "text/plain": [
       "45279.502055317964"
      ]
     },
     "execution_count": 108,
     "metadata": {},
     "output_type": "execute_result"
    },
    {
     "data": {
      "text/plain": [
       "45031.76854005826"
      ]
     },
     "execution_count": 108,
     "metadata": {},
     "output_type": "execute_result"
    }
   ],
   "source": [
    "sum(data.distancia)\n",
    "sum(new_data_2.distancia)"
   ]
  },
  {
   "cell_type": "code",
   "execution_count": 15,
   "metadata": {},
   "outputs": [
    {
     "name": "stdout",
     "output_type": "stream",
     "text": [
      "\n"
     ]
    }
   ],
   "source": [
    "detectaYEliminaAnomalias(pathGeneral=\"./\", nombreFichero=\"Marat_n_BCN_sobran_kilometros_.csv\")\n"
   ]
  },
  {
   "cell_type": "code",
   "execution_count": 21,
   "metadata": {},
   "outputs": [],
   "source": [
    "prueba= pd.read_csv(\"Marat_n_BCN_sobran_kilometros__XKAnomalias.csv\")\n"
   ]
  },
  {
   "cell_type": "code",
   "execution_count": 111,
   "metadata": {},
   "outputs": [],
   "source": [
    "def corregirDistancia(dataset):\n",
    "    sigma_distancia= np.std(dataset['distancia'])\n",
    "    sigma_velocidad = np.std(dataset['velocidad'])\n",
    "   \n",
    "    new_lista= list()\n",
    "    \n",
    "    for i in np.arange(0, len(dataset.velocidad)):\n",
    "        \n",
    "        dprima = dataset.distancia[i]\n",
    "        d = dataset.distancia[i]\n",
    "        v = dataset.velocidad[i]\n",
    "        \n",
    "        if(d!=0):\n",
    "            dprima= d/(1+((sigma_distancia*1.5)/d)**2)\n",
    "            \n",
    "        new_lista.append(dprima)\n",
    "        \n",
    "    return(new_lista)"
   ]
  },
  {
   "cell_type": "code",
   "execution_count": 112,
   "metadata": {},
   "outputs": [],
   "source": [
    "def corregirVelocidad(dataset):\n",
    "    \n",
    "    new_list = list()    \n",
    "    \n",
    "    time=dataset['time']\n",
    "    \n",
    "    for i in np.arange(0, len(dataset.time)):\n",
    "        if( i == 0):\n",
    "            new_list.append(0)\n",
    "        else:\n",
    "            #velocidad\n",
    "            t1=time[i-1].replace('.000', '')\n",
    "            t2=time[i].replace( '.000', '')\n",
    "            time_dt1= formateaFecha(t1,'%Y-%m-%dT%H:%M:%SZ')\n",
    "            time_dt2= formateaFecha(t2,'%Y-%m-%dT%H:%M:%SZ')\n",
    "            \n",
    "            v= calculaVelocidadKM(time_dt1, time_dt2, dataset.distancia[i])\n",
    "            new_list.append(v)\n",
    "        \n",
    "    return(new_list)"
   ]
  },
  {
   "cell_type": "code",
   "execution_count": 113,
   "metadata": {},
   "outputs": [],
   "source": [
    "def detectaYEliminaAnomalias2(pathGeneral, nombreFichero):\n",
    "    data = pd.read_csv(pathGeneral+nombreFichero) #./Maraton.csv\n",
    "    new_fichero = nombreFichero.replace(\".csv\", \"_CalcAnomalias\") #Maraton.csv -> Maraton_CalcAnomalias\n",
    "    calculosDetectarAnomalias(data, new_fichero)#Maraton_CalcAnomalias.csv\n",
    "    data= pd.read_csv(new_fichero+\".csv\")#Maraton_CalcAnomalias.csv\n",
    "    new_fichero = new_fichero.replace(\"_CalcAnomalias\", \"_SinAnomaliasV\")#Maraton_SinAnomaliasV\n",
    "    data_sinV = eliminaAnomaliasPorVelocidad(data, new_fichero)\n",
    "    new_fichero = new_fichero.replace(\"_SinAnomaliasV\", \"_SinAnomalias\")\n",
    "    data_sinVV=eliminaAnomaliasPorVelocidadVertical(data_sinV, new_fichero)\n",
    "    new_distancia = corregirDistancia(data_sinVV)\n",
    "    data_sinVV.distancia= new_distancia\n",
    "    new_velocidad= corregirVelocidad(data_sinVV)\n",
    "    data_sinVV.velocidad = new_velocidad\n",
    "    new_fichero = new_fichero.replace(\"_SinAnomalias\", \"_Final\")\n",
    "    print(sum(data_sinVV.distancia))\n",
    "    data_sinVV.to_csv(new_fichero+\".csv\")\n",
    "    "
   ]
  },
  {
   "cell_type": "code",
   "execution_count": 115,
   "metadata": {},
   "outputs": [
    {
     "name": "stdout",
     "output_type": "stream",
     "text": [
      "41976.8843599434\n"
     ]
    }
   ],
   "source": [
    "detectaYEliminaAnomalias2(pathGeneral=\"./\", nombreFichero=\"datamar.csv\")"
   ]
  },
  {
   "cell_type": "code",
   "execution_count": 50,
   "metadata": {},
   "outputs": [],
   "source": [
    "prueba = pd.read_csv( \"pruebamediamar_Final.csv\")"
   ]
  },
  {
   "cell_type": "code",
   "execution_count": 51,
   "metadata": {},
   "outputs": [
    {
     "data": {
      "text/plain": [
       "21060.19536043755"
      ]
     },
     "execution_count": 51,
     "metadata": {},
     "output_type": "execute_result"
    }
   ],
   "source": [
    "sum(prueba.distancia)"
   ]
  }
 ],
 "metadata": {
  "kernelspec": {
   "display_name": "Python 3",
   "language": "python",
   "name": "python3"
  },
  "language_info": {
   "codemirror_mode": {
    "name": "ipython",
    "version": 3
   },
   "file_extension": ".py",
   "mimetype": "text/x-python",
   "name": "python",
   "nbconvert_exporter": "python",
   "pygments_lexer": "ipython3",
   "version": "3.6.0"
  }
 },
 "nbformat": 4,
 "nbformat_minor": 2
}
